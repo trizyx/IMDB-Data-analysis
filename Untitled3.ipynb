{
  "nbformat": 4,
  "nbformat_minor": 0,
  "metadata": {
    "colab": {
      "provenance": [],
      "authorship_tag": "ABX9TyMIk4E/QU8QXZXIS+4XyOGM",
      "include_colab_link": true
    },
    "kernelspec": {
      "name": "python3",
      "display_name": "Python 3"
    },
    "language_info": {
      "name": "python"
    }
  },
  "cells": [
    {
      "cell_type": "markdown",
      "metadata": {
        "id": "view-in-github",
        "colab_type": "text"
      },
      "source": [
        "<a href=\"https://colab.research.google.com/github/trizyx/IMDB-Data-analysis/blob/main/Untitled3.ipynb\" target=\"_parent\"><img src=\"https://colab.research.google.com/assets/colab-badge.svg\" alt=\"Open In Colab\"/></a>"
      ]
    },
    {
      "cell_type": "code",
      "execution_count": 1,
      "metadata": {
        "id": "uGEJxFlU39IG"
      },
      "outputs": [],
      "source": [
        "import pandas as pd\n",
        "import matplotlib.pyplot as plt\n",
        "import seaborn as sns\n",
        "import warnings\n",
        "warnings.filterwarnings('ignore')"
      ]
    },
    {
      "cell_type": "code",
      "source": [
        "df = pd.read_csv(\"data.csv\")\n",
        "df.info()"
      ],
      "metadata": {
        "colab": {
          "base_uri": "https://localhost:8080/"
        },
        "id": "lqHMrnao51ty",
        "outputId": "7d189b53-f6d8-4649-da7d-13625cdb7a13"
      },
      "execution_count": 40,
      "outputs": [
        {
          "output_type": "stream",
          "name": "stdout",
          "text": [
            "<class 'pandas.core.frame.DataFrame'>\n",
            "RangeIndex: 10000 entries, 0 to 9999\n",
            "Data columns (total 13 columns):\n",
            " #   Column               Non-Null Count  Dtype  \n",
            "---  ------               --------------  -----  \n",
            " 0   Unnamed: 0           10000 non-null  int64  \n",
            " 1   Movie Name           10000 non-null  object \n",
            " 2   Year of Release      10000 non-null  int64  \n",
            " 3   Run Time in minutes  10000 non-null  int64  \n",
            " 4   Movie Rating         10000 non-null  float64\n",
            " 5   Votes                10000 non-null  int64  \n",
            " 6   MetaScore            7974 non-null   float64\n",
            " 7   Gross                7085 non-null   float64\n",
            " 8   Genre                10000 non-null  object \n",
            " 9   Certification        9631 non-null   object \n",
            " 10  Director             10000 non-null  object \n",
            " 11  Stars                10000 non-null  object \n",
            " 12  Description          10000 non-null  object \n",
            "dtypes: float64(3), int64(4), object(6)\n",
            "memory usage: 1015.8+ KB\n"
          ]
        }
      ]
    },
    {
      "cell_type": "code",
      "source": [
        "df.head(10)"
      ],
      "metadata": {
        "colab": {
          "base_uri": "https://localhost:8080/",
          "height": 1000
        },
        "id": "9CEZIP0V51xm",
        "outputId": "f30fadbc-2abb-4935-d2ee-0ecaa4e16ffb"
      },
      "execution_count": 41,
      "outputs": [
        {
          "output_type": "execute_result",
          "data": {
            "text/plain": [
              "   Unnamed: 0                                     Movie Name  Year of Release  \\\n",
              "0           0                       The Shawshank Redemption             1994   \n",
              "1           1                                  The Godfather             1972   \n",
              "2           2            Ramayana: The Legend of Prince Rama             1993   \n",
              "3           3                                The Chaos Class             1975   \n",
              "4           4                                The Dark Knight             2008   \n",
              "5           5                               Schindler's List             1993   \n",
              "6           6  The Lord of the Rings: The Return of the King             2003   \n",
              "7           7                                   12 Angry Men             1957   \n",
              "8           8                          The Godfather Part II             1974   \n",
              "9           9                                    Mirror Game             2016   \n",
              "\n",
              "   Run Time in minutes  Movie Rating    Votes  MetaScore        Gross  \\\n",
              "0                  142           9.3  2804443       82.0   28340000.0   \n",
              "1                  175           9.2  1954174      100.0  134970000.0   \n",
              "2                  135           9.2    12995        NaN          NaN   \n",
              "3                   87           9.2    42231        NaN          NaN   \n",
              "4                  152           9.0  2786129       84.0  534860000.0   \n",
              "5                  195           9.0  1409869       95.0   96900000.0   \n",
              "6                  201           9.0  1919908       94.0  377850000.0   \n",
              "7                   96           9.0   834248       97.0    4360000.0   \n",
              "8                  202           9.0  1327069       90.0   57300000.0   \n",
              "9                  147           9.0    29102        NaN          NaN   \n",
              "\n",
              "                                    Genre Certification  \\\n",
              "0                               ['Drama']             R   \n",
              "1                     ['Crime', ' Drama']             R   \n",
              "2  ['Animation', ' Action', ' Adventure']            PG   \n",
              "3                    ['Comedy', ' Drama']           NaN   \n",
              "4          ['Action', ' Crime', ' Drama']         PG-13   \n",
              "5     ['Biography', ' Drama', ' History']             R   \n",
              "6      ['Action', ' Adventure', ' Drama']         PG-13   \n",
              "7                     ['Crime', ' Drama']      Approved   \n",
              "8                     ['Crime', ' Drama']             R   \n",
              "9      ['Crime', ' Mystery', ' Thriller']           NaN   \n",
              "\n",
              "                                     Director  \\\n",
              "0                          ['Frank Darabont']   \n",
              "1                    ['Francis Ford Coppola']   \n",
              "2  ['Ram Mohan', 'Yûgô Sakô', 'Koichi Saski']   \n",
              "3                           ['Ertem Egilmez']   \n",
              "4                       ['Christopher Nolan']   \n",
              "5                        ['Steven Spielberg']   \n",
              "6                           ['Peter Jackson']   \n",
              "7                            ['Sidney Lumet']   \n",
              "8                    ['Francis Ford Coppola']   \n",
              "9                  ['Amitabh Reza Chowdhury']   \n",
              "\n",
              "                                               Stars  \\\n",
              "0  ['Tim Robbins', 'Morgan Freeman', 'Bob Gunton'...   \n",
              "1  ['Marlon Brando', 'Al Pacino', 'James Caan', '...   \n",
              "2  ['Arun Govil', 'Nikhil Kapoor', 'Edie Mirman',...   \n",
              "3  ['Kemal Sunal', 'Münir Özkul', 'Halit Akçatepe...   \n",
              "4  ['Christian Bale', 'Heath Ledger', 'Aaron Eckh...   \n",
              "5  ['Liam Neeson', 'Ralph Fiennes', 'Ben Kingsley...   \n",
              "6  ['Elijah Wood', 'Viggo Mortensen', 'Ian McKell...   \n",
              "7  ['Henry Fonda', 'Lee J. Cobb', 'Martin Balsam'...   \n",
              "8  ['Al Pacino', 'Robert De Niro', 'Robert Duvall...   \n",
              "9  ['Chanchal Chowdhury', 'Masuma Rahman Nabila',...   \n",
              "\n",
              "                                         Description  \n",
              "0  ['Over', 'the', 'course', 'of', 'several', 'ye...  \n",
              "1  ['Don', 'Vito', 'Corleone,', 'head', 'of', 'a'...  \n",
              "2  ['An', 'anime', 'adaptation', 'of', 'the', 'Hi...  \n",
              "3  ['Lazy,', 'uneducated', 'students', 'share', '...  \n",
              "4  ['When', 'the', 'menace', 'known', 'as', 'the'...  \n",
              "5  ['In', 'German-occupied', 'Poland', 'during', ...  \n",
              "6  ['Gandalf', 'and', 'Aragorn', 'lead', 'the', '...  \n",
              "7  ['The', 'jury', 'in', 'a', 'New', 'York', 'Cit...  \n",
              "8  ['The', 'early', 'life', 'and', 'career', 'of'...  \n",
              "9  ['Ayna,', 'an', 'alleged', 'chef', 'but', 'a',...  "
            ],
            "text/html": [
              "\n",
              "  <div id=\"df-5298e26f-d313-47c0-93d8-f2fe8d3f2a4d\" class=\"colab-df-container\">\n",
              "    <div>\n",
              "<style scoped>\n",
              "    .dataframe tbody tr th:only-of-type {\n",
              "        vertical-align: middle;\n",
              "    }\n",
              "\n",
              "    .dataframe tbody tr th {\n",
              "        vertical-align: top;\n",
              "    }\n",
              "\n",
              "    .dataframe thead th {\n",
              "        text-align: right;\n",
              "    }\n",
              "</style>\n",
              "<table border=\"1\" class=\"dataframe\">\n",
              "  <thead>\n",
              "    <tr style=\"text-align: right;\">\n",
              "      <th></th>\n",
              "      <th>Unnamed: 0</th>\n",
              "      <th>Movie Name</th>\n",
              "      <th>Year of Release</th>\n",
              "      <th>Run Time in minutes</th>\n",
              "      <th>Movie Rating</th>\n",
              "      <th>Votes</th>\n",
              "      <th>MetaScore</th>\n",
              "      <th>Gross</th>\n",
              "      <th>Genre</th>\n",
              "      <th>Certification</th>\n",
              "      <th>Director</th>\n",
              "      <th>Stars</th>\n",
              "      <th>Description</th>\n",
              "    </tr>\n",
              "  </thead>\n",
              "  <tbody>\n",
              "    <tr>\n",
              "      <th>0</th>\n",
              "      <td>0</td>\n",
              "      <td>The Shawshank Redemption</td>\n",
              "      <td>1994</td>\n",
              "      <td>142</td>\n",
              "      <td>9.3</td>\n",
              "      <td>2804443</td>\n",
              "      <td>82.0</td>\n",
              "      <td>28340000.0</td>\n",
              "      <td>['Drama']</td>\n",
              "      <td>R</td>\n",
              "      <td>['Frank Darabont']</td>\n",
              "      <td>['Tim Robbins', 'Morgan Freeman', 'Bob Gunton'...</td>\n",
              "      <td>['Over', 'the', 'course', 'of', 'several', 'ye...</td>\n",
              "    </tr>\n",
              "    <tr>\n",
              "      <th>1</th>\n",
              "      <td>1</td>\n",
              "      <td>The Godfather</td>\n",
              "      <td>1972</td>\n",
              "      <td>175</td>\n",
              "      <td>9.2</td>\n",
              "      <td>1954174</td>\n",
              "      <td>100.0</td>\n",
              "      <td>134970000.0</td>\n",
              "      <td>['Crime', ' Drama']</td>\n",
              "      <td>R</td>\n",
              "      <td>['Francis Ford Coppola']</td>\n",
              "      <td>['Marlon Brando', 'Al Pacino', 'James Caan', '...</td>\n",
              "      <td>['Don', 'Vito', 'Corleone,', 'head', 'of', 'a'...</td>\n",
              "    </tr>\n",
              "    <tr>\n",
              "      <th>2</th>\n",
              "      <td>2</td>\n",
              "      <td>Ramayana: The Legend of Prince Rama</td>\n",
              "      <td>1993</td>\n",
              "      <td>135</td>\n",
              "      <td>9.2</td>\n",
              "      <td>12995</td>\n",
              "      <td>NaN</td>\n",
              "      <td>NaN</td>\n",
              "      <td>['Animation', ' Action', ' Adventure']</td>\n",
              "      <td>PG</td>\n",
              "      <td>['Ram Mohan', 'Yûgô Sakô', 'Koichi Saski']</td>\n",
              "      <td>['Arun Govil', 'Nikhil Kapoor', 'Edie Mirman',...</td>\n",
              "      <td>['An', 'anime', 'adaptation', 'of', 'the', 'Hi...</td>\n",
              "    </tr>\n",
              "    <tr>\n",
              "      <th>3</th>\n",
              "      <td>3</td>\n",
              "      <td>The Chaos Class</td>\n",
              "      <td>1975</td>\n",
              "      <td>87</td>\n",
              "      <td>9.2</td>\n",
              "      <td>42231</td>\n",
              "      <td>NaN</td>\n",
              "      <td>NaN</td>\n",
              "      <td>['Comedy', ' Drama']</td>\n",
              "      <td>NaN</td>\n",
              "      <td>['Ertem Egilmez']</td>\n",
              "      <td>['Kemal Sunal', 'Münir Özkul', 'Halit Akçatepe...</td>\n",
              "      <td>['Lazy,', 'uneducated', 'students', 'share', '...</td>\n",
              "    </tr>\n",
              "    <tr>\n",
              "      <th>4</th>\n",
              "      <td>4</td>\n",
              "      <td>The Dark Knight</td>\n",
              "      <td>2008</td>\n",
              "      <td>152</td>\n",
              "      <td>9.0</td>\n",
              "      <td>2786129</td>\n",
              "      <td>84.0</td>\n",
              "      <td>534860000.0</td>\n",
              "      <td>['Action', ' Crime', ' Drama']</td>\n",
              "      <td>PG-13</td>\n",
              "      <td>['Christopher Nolan']</td>\n",
              "      <td>['Christian Bale', 'Heath Ledger', 'Aaron Eckh...</td>\n",
              "      <td>['When', 'the', 'menace', 'known', 'as', 'the'...</td>\n",
              "    </tr>\n",
              "    <tr>\n",
              "      <th>5</th>\n",
              "      <td>5</td>\n",
              "      <td>Schindler's List</td>\n",
              "      <td>1993</td>\n",
              "      <td>195</td>\n",
              "      <td>9.0</td>\n",
              "      <td>1409869</td>\n",
              "      <td>95.0</td>\n",
              "      <td>96900000.0</td>\n",
              "      <td>['Biography', ' Drama', ' History']</td>\n",
              "      <td>R</td>\n",
              "      <td>['Steven Spielberg']</td>\n",
              "      <td>['Liam Neeson', 'Ralph Fiennes', 'Ben Kingsley...</td>\n",
              "      <td>['In', 'German-occupied', 'Poland', 'during', ...</td>\n",
              "    </tr>\n",
              "    <tr>\n",
              "      <th>6</th>\n",
              "      <td>6</td>\n",
              "      <td>The Lord of the Rings: The Return of the King</td>\n",
              "      <td>2003</td>\n",
              "      <td>201</td>\n",
              "      <td>9.0</td>\n",
              "      <td>1919908</td>\n",
              "      <td>94.0</td>\n",
              "      <td>377850000.0</td>\n",
              "      <td>['Action', ' Adventure', ' Drama']</td>\n",
              "      <td>PG-13</td>\n",
              "      <td>['Peter Jackson']</td>\n",
              "      <td>['Elijah Wood', 'Viggo Mortensen', 'Ian McKell...</td>\n",
              "      <td>['Gandalf', 'and', 'Aragorn', 'lead', 'the', '...</td>\n",
              "    </tr>\n",
              "    <tr>\n",
              "      <th>7</th>\n",
              "      <td>7</td>\n",
              "      <td>12 Angry Men</td>\n",
              "      <td>1957</td>\n",
              "      <td>96</td>\n",
              "      <td>9.0</td>\n",
              "      <td>834248</td>\n",
              "      <td>97.0</td>\n",
              "      <td>4360000.0</td>\n",
              "      <td>['Crime', ' Drama']</td>\n",
              "      <td>Approved</td>\n",
              "      <td>['Sidney Lumet']</td>\n",
              "      <td>['Henry Fonda', 'Lee J. Cobb', 'Martin Balsam'...</td>\n",
              "      <td>['The', 'jury', 'in', 'a', 'New', 'York', 'Cit...</td>\n",
              "    </tr>\n",
              "    <tr>\n",
              "      <th>8</th>\n",
              "      <td>8</td>\n",
              "      <td>The Godfather Part II</td>\n",
              "      <td>1974</td>\n",
              "      <td>202</td>\n",
              "      <td>9.0</td>\n",
              "      <td>1327069</td>\n",
              "      <td>90.0</td>\n",
              "      <td>57300000.0</td>\n",
              "      <td>['Crime', ' Drama']</td>\n",
              "      <td>R</td>\n",
              "      <td>['Francis Ford Coppola']</td>\n",
              "      <td>['Al Pacino', 'Robert De Niro', 'Robert Duvall...</td>\n",
              "      <td>['The', 'early', 'life', 'and', 'career', 'of'...</td>\n",
              "    </tr>\n",
              "    <tr>\n",
              "      <th>9</th>\n",
              "      <td>9</td>\n",
              "      <td>Mirror Game</td>\n",
              "      <td>2016</td>\n",
              "      <td>147</td>\n",
              "      <td>9.0</td>\n",
              "      <td>29102</td>\n",
              "      <td>NaN</td>\n",
              "      <td>NaN</td>\n",
              "      <td>['Crime', ' Mystery', ' Thriller']</td>\n",
              "      <td>NaN</td>\n",
              "      <td>['Amitabh Reza Chowdhury']</td>\n",
              "      <td>['Chanchal Chowdhury', 'Masuma Rahman Nabila',...</td>\n",
              "      <td>['Ayna,', 'an', 'alleged', 'chef', 'but', 'a',...</td>\n",
              "    </tr>\n",
              "  </tbody>\n",
              "</table>\n",
              "</div>\n",
              "    <div class=\"colab-df-buttons\">\n",
              "\n",
              "  <div class=\"colab-df-container\">\n",
              "    <button class=\"colab-df-convert\" onclick=\"convertToInteractive('df-5298e26f-d313-47c0-93d8-f2fe8d3f2a4d')\"\n",
              "            title=\"Convert this dataframe to an interactive table.\"\n",
              "            style=\"display:none;\">\n",
              "\n",
              "  <svg xmlns=\"http://www.w3.org/2000/svg\" height=\"24px\" viewBox=\"0 -960 960 960\">\n",
              "    <path d=\"M120-120v-720h720v720H120Zm60-500h600v-160H180v160Zm220 220h160v-160H400v160Zm0 220h160v-160H400v160ZM180-400h160v-160H180v160Zm440 0h160v-160H620v160ZM180-180h160v-160H180v160Zm440 0h160v-160H620v160Z\"/>\n",
              "  </svg>\n",
              "    </button>\n",
              "\n",
              "  <style>\n",
              "    .colab-df-container {\n",
              "      display:flex;\n",
              "      gap: 12px;\n",
              "    }\n",
              "\n",
              "    .colab-df-convert {\n",
              "      background-color: #E8F0FE;\n",
              "      border: none;\n",
              "      border-radius: 50%;\n",
              "      cursor: pointer;\n",
              "      display: none;\n",
              "      fill: #1967D2;\n",
              "      height: 32px;\n",
              "      padding: 0 0 0 0;\n",
              "      width: 32px;\n",
              "    }\n",
              "\n",
              "    .colab-df-convert:hover {\n",
              "      background-color: #E2EBFA;\n",
              "      box-shadow: 0px 1px 2px rgba(60, 64, 67, 0.3), 0px 1px 3px 1px rgba(60, 64, 67, 0.15);\n",
              "      fill: #174EA6;\n",
              "    }\n",
              "\n",
              "    .colab-df-buttons div {\n",
              "      margin-bottom: 4px;\n",
              "    }\n",
              "\n",
              "    [theme=dark] .colab-df-convert {\n",
              "      background-color: #3B4455;\n",
              "      fill: #D2E3FC;\n",
              "    }\n",
              "\n",
              "    [theme=dark] .colab-df-convert:hover {\n",
              "      background-color: #434B5C;\n",
              "      box-shadow: 0px 1px 3px 1px rgba(0, 0, 0, 0.15);\n",
              "      filter: drop-shadow(0px 1px 2px rgba(0, 0, 0, 0.3));\n",
              "      fill: #FFFFFF;\n",
              "    }\n",
              "  </style>\n",
              "\n",
              "    <script>\n",
              "      const buttonEl =\n",
              "        document.querySelector('#df-5298e26f-d313-47c0-93d8-f2fe8d3f2a4d button.colab-df-convert');\n",
              "      buttonEl.style.display =\n",
              "        google.colab.kernel.accessAllowed ? 'block' : 'none';\n",
              "\n",
              "      async function convertToInteractive(key) {\n",
              "        const element = document.querySelector('#df-5298e26f-d313-47c0-93d8-f2fe8d3f2a4d');\n",
              "        const dataTable =\n",
              "          await google.colab.kernel.invokeFunction('convertToInteractive',\n",
              "                                                    [key], {});\n",
              "        if (!dataTable) return;\n",
              "\n",
              "        const docLinkHtml = 'Like what you see? Visit the ' +\n",
              "          '<a target=\"_blank\" href=https://colab.research.google.com/notebooks/data_table.ipynb>data table notebook</a>'\n",
              "          + ' to learn more about interactive tables.';\n",
              "        element.innerHTML = '';\n",
              "        dataTable['output_type'] = 'display_data';\n",
              "        await google.colab.output.renderOutput(dataTable, element);\n",
              "        const docLink = document.createElement('div');\n",
              "        docLink.innerHTML = docLinkHtml;\n",
              "        element.appendChild(docLink);\n",
              "      }\n",
              "    </script>\n",
              "  </div>\n",
              "\n",
              "\n",
              "<div id=\"df-96a62446-5029-4333-9c87-71173ff7aa24\">\n",
              "  <button class=\"colab-df-quickchart\" onclick=\"quickchart('df-96a62446-5029-4333-9c87-71173ff7aa24')\"\n",
              "            title=\"Suggest charts.\"\n",
              "            style=\"display:none;\">\n",
              "\n",
              "<svg xmlns=\"http://www.w3.org/2000/svg\" height=\"24px\"viewBox=\"0 0 24 24\"\n",
              "     width=\"24px\">\n",
              "    <g>\n",
              "        <path d=\"M19 3H5c-1.1 0-2 .9-2 2v14c0 1.1.9 2 2 2h14c1.1 0 2-.9 2-2V5c0-1.1-.9-2-2-2zM9 17H7v-7h2v7zm4 0h-2V7h2v10zm4 0h-2v-4h2v4z\"/>\n",
              "    </g>\n",
              "</svg>\n",
              "  </button>\n",
              "\n",
              "<style>\n",
              "  .colab-df-quickchart {\n",
              "      --bg-color: #E8F0FE;\n",
              "      --fill-color: #1967D2;\n",
              "      --hover-bg-color: #E2EBFA;\n",
              "      --hover-fill-color: #174EA6;\n",
              "      --disabled-fill-color: #AAA;\n",
              "      --disabled-bg-color: #DDD;\n",
              "  }\n",
              "\n",
              "  [theme=dark] .colab-df-quickchart {\n",
              "      --bg-color: #3B4455;\n",
              "      --fill-color: #D2E3FC;\n",
              "      --hover-bg-color: #434B5C;\n",
              "      --hover-fill-color: #FFFFFF;\n",
              "      --disabled-bg-color: #3B4455;\n",
              "      --disabled-fill-color: #666;\n",
              "  }\n",
              "\n",
              "  .colab-df-quickchart {\n",
              "    background-color: var(--bg-color);\n",
              "    border: none;\n",
              "    border-radius: 50%;\n",
              "    cursor: pointer;\n",
              "    display: none;\n",
              "    fill: var(--fill-color);\n",
              "    height: 32px;\n",
              "    padding: 0;\n",
              "    width: 32px;\n",
              "  }\n",
              "\n",
              "  .colab-df-quickchart:hover {\n",
              "    background-color: var(--hover-bg-color);\n",
              "    box-shadow: 0 1px 2px rgba(60, 64, 67, 0.3), 0 1px 3px 1px rgba(60, 64, 67, 0.15);\n",
              "    fill: var(--button-hover-fill-color);\n",
              "  }\n",
              "\n",
              "  .colab-df-quickchart-complete:disabled,\n",
              "  .colab-df-quickchart-complete:disabled:hover {\n",
              "    background-color: var(--disabled-bg-color);\n",
              "    fill: var(--disabled-fill-color);\n",
              "    box-shadow: none;\n",
              "  }\n",
              "\n",
              "  .colab-df-spinner {\n",
              "    border: 2px solid var(--fill-color);\n",
              "    border-color: transparent;\n",
              "    border-bottom-color: var(--fill-color);\n",
              "    animation:\n",
              "      spin 1s steps(1) infinite;\n",
              "  }\n",
              "\n",
              "  @keyframes spin {\n",
              "    0% {\n",
              "      border-color: transparent;\n",
              "      border-bottom-color: var(--fill-color);\n",
              "      border-left-color: var(--fill-color);\n",
              "    }\n",
              "    20% {\n",
              "      border-color: transparent;\n",
              "      border-left-color: var(--fill-color);\n",
              "      border-top-color: var(--fill-color);\n",
              "    }\n",
              "    30% {\n",
              "      border-color: transparent;\n",
              "      border-left-color: var(--fill-color);\n",
              "      border-top-color: var(--fill-color);\n",
              "      border-right-color: var(--fill-color);\n",
              "    }\n",
              "    40% {\n",
              "      border-color: transparent;\n",
              "      border-right-color: var(--fill-color);\n",
              "      border-top-color: var(--fill-color);\n",
              "    }\n",
              "    60% {\n",
              "      border-color: transparent;\n",
              "      border-right-color: var(--fill-color);\n",
              "    }\n",
              "    80% {\n",
              "      border-color: transparent;\n",
              "      border-right-color: var(--fill-color);\n",
              "      border-bottom-color: var(--fill-color);\n",
              "    }\n",
              "    90% {\n",
              "      border-color: transparent;\n",
              "      border-bottom-color: var(--fill-color);\n",
              "    }\n",
              "  }\n",
              "</style>\n",
              "\n",
              "  <script>\n",
              "    async function quickchart(key) {\n",
              "      const quickchartButtonEl =\n",
              "        document.querySelector('#' + key + ' button');\n",
              "      quickchartButtonEl.disabled = true;  // To prevent multiple clicks.\n",
              "      quickchartButtonEl.classList.add('colab-df-spinner');\n",
              "      try {\n",
              "        const charts = await google.colab.kernel.invokeFunction(\n",
              "            'suggestCharts', [key], {});\n",
              "      } catch (error) {\n",
              "        console.error('Error during call to suggestCharts:', error);\n",
              "      }\n",
              "      quickchartButtonEl.classList.remove('colab-df-spinner');\n",
              "      quickchartButtonEl.classList.add('colab-df-quickchart-complete');\n",
              "    }\n",
              "    (() => {\n",
              "      let quickchartButtonEl =\n",
              "        document.querySelector('#df-96a62446-5029-4333-9c87-71173ff7aa24 button');\n",
              "      quickchartButtonEl.style.display =\n",
              "        google.colab.kernel.accessAllowed ? 'block' : 'none';\n",
              "    })();\n",
              "  </script>\n",
              "</div>\n",
              "    </div>\n",
              "  </div>\n"
            ]
          },
          "metadata": {},
          "execution_count": 41
        }
      ]
    },
    {
      "cell_type": "markdown",
      "source": [
        "**SEARCHING FOR ANY NULL DATA + *CLEANING***\n",
        "\n"
      ],
      "metadata": {
        "id": "uGKMqqKy77yq"
      }
    },
    {
      "cell_type": "code",
      "source": [
        "df.isnull().sum()"
      ],
      "metadata": {
        "colab": {
          "base_uri": "https://localhost:8080/"
        },
        "id": "5x0bW62Q511K",
        "outputId": "a652faca-4459-4edb-91b1-0cb889df315b"
      },
      "execution_count": 42,
      "outputs": [
        {
          "output_type": "execute_result",
          "data": {
            "text/plain": [
              "Unnamed: 0                0\n",
              "Movie Name                0\n",
              "Year of Release           0\n",
              "Run Time in minutes       0\n",
              "Movie Rating              0\n",
              "Votes                     0\n",
              "MetaScore              2026\n",
              "Gross                  2915\n",
              "Genre                     0\n",
              "Certification           369\n",
              "Director                  0\n",
              "Stars                     0\n",
              "Description               0\n",
              "dtype: int64"
            ]
          },
          "metadata": {},
          "execution_count": 42
        }
      ]
    },
    {
      "cell_type": "code",
      "source": [
        "df = df.dropna(subset=['Certification'])"
      ],
      "metadata": {
        "id": "NL_KEDCo5146"
      },
      "execution_count": 43,
      "outputs": []
    },
    {
      "cell_type": "code",
      "source": [
        "df['MetaScore'].fillna(df['MetaScore'].mean(), inplace=True)\n",
        "df['Gross'].fillna(df['Gross'].median(), inplace=True)\n",
        "df['Gross'] = df['Gross'] / 1000000 # CAUSE OF BIG VALUES WE`LL USE GROSS COUNTING IN $mln"
      ],
      "metadata": {
        "id": "l18WjEgu6tMZ"
      },
      "execution_count": 44,
      "outputs": []
    },
    {
      "cell_type": "code",
      "source": [
        "df.isna().sum()"
      ],
      "metadata": {
        "colab": {
          "base_uri": "https://localhost:8080/"
        },
        "id": "TsY9LvAJ7BWR",
        "outputId": "b4381f65-800f-469d-e4a8-e1d6f1b17e21"
      },
      "execution_count": 45,
      "outputs": [
        {
          "output_type": "execute_result",
          "data": {
            "text/plain": [
              "Unnamed: 0             0\n",
              "Movie Name             0\n",
              "Year of Release        0\n",
              "Run Time in minutes    0\n",
              "Movie Rating           0\n",
              "Votes                  0\n",
              "MetaScore              0\n",
              "Gross                  0\n",
              "Genre                  0\n",
              "Certification          0\n",
              "Director               0\n",
              "Stars                  0\n",
              "Description            0\n",
              "dtype: int64"
            ]
          },
          "metadata": {},
          "execution_count": 45
        }
      ]
    },
    {
      "cell_type": "markdown",
      "source": [
        "**START ANALYSIS//**"
      ],
      "metadata": {
        "id": "6X_X4HTl744W"
      }
    },
    {
      "cell_type": "code",
      "source": [
        "plt.subplot(1, 2, 1)\n",
        "sns.histplot(data = df['Movie Rating'], color=\"#c10000\", kde=True)\n",
        "plt.subplot(1, 2, 2)\n",
        "sns.histplot(data = df['Gross'], kde=True)"
      ],
      "metadata": {
        "colab": {
          "base_uri": "https://localhost:8080/",
          "height": 466
        },
        "id": "WoYG52Eu73o0",
        "outputId": "3b8ba247-8336-4e75-ddfc-0a664e93b5aa"
      },
      "execution_count": 47,
      "outputs": [
        {
          "output_type": "execute_result",
          "data": {
            "text/plain": [
              "<Axes: xlabel='Gross', ylabel='Count'>"
            ]
          },
          "metadata": {},
          "execution_count": 47
        },
        {
          "output_type": "display_data",
          "data": {
            "text/plain": [
              "<Figure size 640x480 with 2 Axes>"
            ],
            "image/png": "[encoded data removed]"
          },
          "metadata": {}
        }
      ]
    },
    {
      "cell_type": "code",
      "source": [
        "sns.scatterplot(data=df, x=\"Gross\", y=\"Movie Rating\")"
      ],
      "metadata": {
        "colab": {
          "base_uri": "https://localhost:8080/",
          "height": 466
        },
        "id": "UFyea2mI9Wbh",
        "outputId": "464fdd83-854e-4671-e764-8c1a0ebf5ba3"
      },
      "execution_count": 27,
      "outputs": [
        {
          "output_type": "execute_result",
          "data": {
            "text/plain": [
              "<Axes: xlabel='Gross', ylabel='Movie Rating'>"
            ]
          },
          "metadata": {},
          "execution_count": 27
        },
        {
          "output_type": "display_data",
          "data": {
            "text/plain": [
              "<Figure size 640x480 with 1 Axes>"
            ],
            "image/png": "[encoded data removed]"
          },
          "metadata": {}
        }
      ]
    },
    {
      "cell_type": "code",
      "source": [],
      "metadata": {
        "id": "jS_8c_evIMDA"
      },
      "execution_count": null,
      "outputs": []
    }
  ]
}